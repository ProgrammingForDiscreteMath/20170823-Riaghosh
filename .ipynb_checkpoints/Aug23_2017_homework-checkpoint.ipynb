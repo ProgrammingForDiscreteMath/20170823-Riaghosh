{
 "cells": [
  {
   "cell_type": "code",
   "execution_count": 2,
   "metadata": {},
   "outputs": [],
   "source": [
    "def entries_less_than_ten(L):\n",
    "    \"\"\"\n",
    "    Return those elements of L which are less than ten.\n",
    "\n",
    "    Args:\n",
    "        L: a list\n",
    "\n",
    "    Returns:\n",
    "        A sublist of L consisting of those entries which are less than 10.\n",
    "    \"\"\"\n",
    "    return [i for i in L if i<10]"
   ]
  },
  {
   "cell_type": "code",
   "execution_count": 31,
   "metadata": {},
   "outputs": [],
   "source": [
    "L=[-2, -3, -1, -10, 0 ,9 ,9]"
   ]
  },
  {
   "cell_type": "code",
   "execution_count": 13,
   "metadata": {},
   "outputs": [
    {
     "name": "stdout",
     "output_type": "stream",
     "text": [
      "[2, 2, 1]\n"
     ]
    }
   ],
   "source": [
    "print entries_less_than_ten(L)"
   ]
  },
  {
   "cell_type": "code",
   "execution_count": 27,
   "metadata": {},
   "outputs": [],
   "source": [
    "def number_of_negatives(L):\n",
    "    \"\"\"\n",
    "    Return the number of negative numbers in L.\n",
    "\n",
    "    Args:\n",
    "        L: list of integers\n",
    "\n",
    "    Returns:\n",
    "        number of entries of L which are negative\n",
    "    \"\"\"\n",
    "    return len([i for i in L if i<0])"
   ]
  },
  {
   "cell_type": "code",
   "execution_count": 32,
   "metadata": {},
   "outputs": [
    {
     "name": "stdout",
     "output_type": "stream",
     "text": [
      "4\n"
     ]
    }
   ],
   "source": [
    "print number_of_negatives(L)"
   ]
  },
  {
   "cell_type": "code",
   "execution_count": 53,
   "metadata": {},
   "outputs": [],
   "source": [
    "def common_elements(L1, L2):\n",
    "    \"\"\"\n",
    "    Return the common elements of lists ``L1`` and ``L2``.\n",
    "\n",
    "    Args:\n",
    "        L1: List\n",
    "        L2: List\n",
    "\n",
    "    Returns:\n",
    "        A list whose elements are the common elements of ``L1`` and\n",
    "        ``L2`` WITHOUT DUPLICATES.\n",
    "    \"\"\"\n",
    "    L_common = [j for i in L1 for j in L2 if i==j]\n",
    "    L_unique = []\n",
    "    for i in L_common:\n",
    "        if i not in L_unique:\n",
    "            L_unique.append(i)\n",
    "    return L_unique"
   ]
  },
  {
   "cell_type": "code",
   "execution_count": 54,
   "metadata": {},
   "outputs": [
    {
     "name": "stdout",
     "output_type": "stream",
     "text": [
      "[1, 2, 4]\n"
     ]
    }
   ],
   "source": [
    "print common_elements([1, 2, 1, 4, \"bio\", 6, 1], [4, 4, 2, 1, 3, 5])"
   ]
  },
  {
   "cell_type": "code",
   "execution_count": 40,
   "metadata": {
    "collapsed": true
   },
   "outputs": [],
   "source": [
    "L1=[1,2,1,4,\"bio\",6,1]"
   ]
  },
  {
   "cell_type": "code",
   "execution_count": 41,
   "metadata": {
    "collapsed": true
   },
   "outputs": [],
   "source": [
    "L2=[4,4,2,1,3,5]"
   ]
  },
  {
   "cell_type": "code",
   "execution_count": 42,
   "metadata": {},
   "outputs": [
    {
     "name": "stdout",
     "output_type": "stream",
     "text": [
      "[<generator object <genexpr> at 0x105f26c80>]\n"
     ]
    }
   ],
   "source": [
    "print common_elements(L1,L2)"
   ]
  },
  {
   "cell_type": "code",
   "execution_count": 90,
   "metadata": {
    "collapsed": true
   },
   "outputs": [],
   "source": [
    "def fibonacci_generator():\n",
    "    \"\"\"\n",
    "    Generate the Fibonacci sequence.\n",
    "\n",
    "    The Fibonacci sequence 1, 1, 2, 3, 5, 8, 13, 21,...\n",
    "    is defined by a1=1, a2=1, and an = a(n-1) + a(n-2).\n",
    "    \"\"\"\n",
    "    a1=1\n",
    "    a2=1\n",
    "    while True:\n",
    "        yield a1\n",
    "        atemp=a1 \n",
    "        a1=a2\n",
    "        a2= atemp+a2\n",
    "        "
   ]
  },
  {
   "cell_type": "code",
   "execution_count": 108,
   "metadata": {
    "collapsed": true
   },
   "outputs": [],
   "source": [
    "f=fibonacci_generator()"
   ]
  },
  {
   "cell_type": "code",
   "execution_count": 109,
   "metadata": {},
   "outputs": [
    {
     "data": {
      "text/plain": [
       "[1, 1, 2, 3, 5, 8, 13, 21, 34, 55]"
      ]
     },
     "execution_count": 109,
     "metadata": {},
     "output_type": "execute_result"
    }
   ],
   "source": [
    "[f.next() for i in range(10)]"
   ]
  },
  {
   "cell_type": "code",
   "execution_count": 94,
   "metadata": {},
   "outputs": [
    {
     "data": {
      "text/plain": [
       "1"
      ]
     },
     "execution_count": 94,
     "metadata": {},
     "output_type": "execute_result"
    }
   ],
   "source": [
    "f.next()"
   ]
  },
  {
   "cell_type": "code",
   "execution_count": 125,
   "metadata": {
    "collapsed": true
   },
   "outputs": [],
   "source": [
    "def largest_fibonacci_before(n):\n",
    "    \"\"\"\n",
    "    Return the largest Fibonacci number less than ``n``.\n",
    "    \"\"\"\n",
    "    L=[]\n",
    "    f=fibonacci_generator()\n",
    "    a=f.next()\n",
    "    while a < n:\n",
    "        largest_fib=a \n",
    "        a=f.next()\n",
    "    return largest_fib\n",
    "    "
   ]
  },
  {
   "cell_type": "code",
   "execution_count": 128,
   "metadata": {},
   "outputs": [
    {
     "data": {
      "text/plain": [
       "34"
      ]
     },
     "execution_count": 128,
     "metadata": {},
     "output_type": "execute_result"
    }
   ],
   "source": [
    "largest_fibonacci_before(55)"
   ]
  },
  {
   "cell_type": "code",
   "execution_count": 146,
   "metadata": {},
   "outputs": [],
   "source": [
    "from math import factorial\n",
    "def catalan_generator():\n",
    "    \"\"\"\n",
    "    Generate the sequence of Catalan numbers.\n",
    "\n",
    "    For the definition of the Catalan number sequence see `OEIS <https://www.oeis.org/A000108>`.\n",
    "    \"\"\"\n",
    "    n=0\n",
    "    while True:\n",
    "        yield factorial(2*n)/(factorial(n)*factorial(n+1))\n",
    "        n+=1\n",
    "    "
   ]
  },
  {
   "cell_type": "code",
   "execution_count": 147,
   "metadata": {
    "collapsed": true
   },
   "outputs": [],
   "source": [
    "c=catalan_generator()"
   ]
  },
  {
   "cell_type": "code",
   "execution_count": 148,
   "metadata": {},
   "outputs": [
    {
     "data": {
      "text/plain": [
       "[1, 1, 2, 5, 14, 42, 132, 429, 1430, 4862]"
      ]
     },
     "execution_count": 148,
     "metadata": {},
     "output_type": "execute_result"
    }
   ],
   "source": [
    "[c.next() for i in range(10)]"
   ]
  },
  {
   "cell_type": "code",
   "execution_count": 185,
   "metadata": {},
   "outputs": [],
   "source": [
    "from math import sqrt \n",
    "from fractions import gcd\n",
    "def primitive_pythagorean_triples_less_than_n(n):\n",
    "    \"\"\"\n",
    "    Return the primitive pythagorean triples less than an integer ''n''. \n",
    "    A Pythagorean triple consists of three positive integers a, b, and c, such that a**2 + b**2 = c**2.\n",
    "    A primitive Pythagorean triple is one in which a, b and c are prime to each other.\n",
    "\n",
    "    Args:\n",
    "        n: integer\n",
    "\n",
    "    Returns:\n",
    "        List of the pythagorean triples less than ''n''.\n",
    "    \"\"\"\n",
    "    L=[]\n",
    "    for x in range(1,n):\n",
    "        for y in range(x,n):\n",
    "            z=sqrt(x**2 + y**2)\n",
    "            if gcd(int(x),int(y))==1:\n",
    "                if int(z)**2==z**2 and z<n:\n",
    "                    L.append({x, y, int(z)})\n",
    "    return L\n",
    "            \n",
    "                \n",
    "        "
   ]
  },
  {
   "cell_type": "code",
   "execution_count": 188,
   "metadata": {},
   "outputs": [
    {
     "data": {
      "text/plain": [
       "[{3, 4, 5}, {5, 12, 13}, {8, 15, 17}]"
      ]
     },
     "execution_count": 188,
     "metadata": {},
     "output_type": "execute_result"
    }
   ],
   "source": [
    "primitive_pythagorean_triplets_less_than_n(20)"
   ]
  },
  {
   "cell_type": "code",
   "execution_count": null,
   "metadata": {
    "collapsed": true
   },
   "outputs": [],
   "source": [
    "(3, 4, 5)\t(5, 12, 13)\t(8, 15, 17)\t(7, 24, 25)\n",
    "(20, 21, 29)\t(12, 35, 37)\t(9, 40, 41)\t(28, 45, 53)\n",
    "(11, 60, 61)\t(16, 63, 65)\t(33, 56, 65)\t(48, 55, 73)\n",
    "(13, 84, 85)\t(36, 77, 85)\t(39, 80, 89)\t(65, 72, 97)"
   ]
  }
 ],
 "metadata": {
  "kernelspec": {
   "display_name": "Python 2",
   "language": "python",
   "name": "python2"
  },
  "language_info": {
   "codemirror_mode": {
    "name": "ipython",
    "version": 2
   },
   "file_extension": ".py",
   "mimetype": "text/x-python",
   "name": "python",
   "nbconvert_exporter": "python",
   "pygments_lexer": "ipython2",
   "version": "2.7.13"
  }
 },
 "nbformat": 4,
 "nbformat_minor": 2
}
